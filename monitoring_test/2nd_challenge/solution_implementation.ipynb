{
 "cells": [
  {
   "cell_type": "markdown",
   "id": "3e07aae1-1608-4ccb-9775-63769b8d2706",
   "metadata": {},
   "source": [
    "# CloudWalk - Monitoring Analyst Test\n",
    "\n",
    "**Second challenge**\n",
    "\n",
    "- Implementation of a solution to a real world problem."
   ]
  },
  {
   "cell_type": "markdown",
   "id": "d9e51cae-f69e-442f-846a-dafdec64c4ee",
   "metadata": {},
   "source": [
    "## Install requirements"
   ]
  },
  {
   "cell_type": "code",
   "execution_count": 5,
   "id": "e09228b0-e591-4773-a453-1416533c78e1",
   "metadata": {
    "editable": true,
    "slideshow": {
     "slide_type": ""
    },
    "tags": []
   },
   "outputs": [
    {
     "name": "stdout",
     "output_type": "stream",
     "text": [
      "Requirement already satisfied: ipython-sql in /home/igor/pvenv/p310/lib/python3.10/site-packages (0.5.0)\n",
      "Requirement already satisfied: ipython in /home/igor/pvenv/p310/lib/python3.10/site-packages (from ipython-sql) (8.13.2)\n",
      "Requirement already satisfied: ipython-genutils in /home/igor/pvenv/p310/lib/python3.10/site-packages (from ipython-sql) (0.2.0)\n",
      "Requirement already satisfied: sqlalchemy>=2.0 in /home/igor/pvenv/p310/lib/python3.10/site-packages (from ipython-sql) (2.0.16)\n",
      "Requirement already satisfied: sqlparse in /home/igor/pvenv/p310/lib/python3.10/site-packages (from ipython-sql) (0.4.4)\n",
      "Requirement already satisfied: prettytable in /home/igor/pvenv/p310/lib/python3.10/site-packages (from ipython-sql) (3.8.0)\n",
      "Requirement already satisfied: six in /home/igor/pvenv/p310/lib/python3.10/site-packages (from ipython-sql) (1.16.0)\n",
      "Requirement already satisfied: typing-extensions>=4.2.0 in /home/igor/pvenv/p310/lib/python3.10/site-packages (from sqlalchemy>=2.0->ipython-sql) (4.5.0)\n",
      "Requirement already satisfied: greenlet!=0.4.17 in /home/igor/pvenv/p310/lib/python3.10/site-packages (from sqlalchemy>=2.0->ipython-sql) (2.0.2)\n",
      "Requirement already satisfied: jedi>=0.16 in /home/igor/pvenv/p310/lib/python3.10/site-packages (from ipython->ipython-sql) (0.18.2)\n",
      "Requirement already satisfied: backcall in /home/igor/pvenv/p310/lib/python3.10/site-packages (from ipython->ipython-sql) (0.2.0)\n",
      "Requirement already satisfied: stack-data in /home/igor/pvenv/p310/lib/python3.10/site-packages (from ipython->ipython-sql) (0.6.2)\n",
      "Requirement already satisfied: decorator in /home/igor/pvenv/p310/lib/python3.10/site-packages (from ipython->ipython-sql) (5.1.1)\n",
      "Requirement already satisfied: pygments>=2.4.0 in /home/igor/pvenv/p310/lib/python3.10/site-packages (from ipython->ipython-sql) (2.15.1)\n",
      "Requirement already satisfied: pickleshare in /home/igor/pvenv/p310/lib/python3.10/site-packages (from ipython->ipython-sql) (0.7.5)\n",
      "Requirement already satisfied: pexpect>4.3 in /home/igor/pvenv/p310/lib/python3.10/site-packages (from ipython->ipython-sql) (4.8.0)\n",
      "Requirement already satisfied: matplotlib-inline in /home/igor/pvenv/p310/lib/python3.10/site-packages (from ipython->ipython-sql) (0.1.6)\n",
      "Requirement already satisfied: prompt-toolkit!=3.0.37,<3.1.0,>=3.0.30 in /home/igor/pvenv/p310/lib/python3.10/site-packages (from ipython->ipython-sql) (3.0.38)\n",
      "Requirement already satisfied: traitlets>=5 in /home/igor/pvenv/p310/lib/python3.10/site-packages (from ipython->ipython-sql) (5.9.0)\n",
      "Requirement already satisfied: wcwidth in /home/igor/pvenv/p310/lib/python3.10/site-packages (from prettytable->ipython-sql) (0.2.6)\n",
      "Requirement already satisfied: parso<0.9.0,>=0.8.0 in /home/igor/pvenv/p310/lib/python3.10/site-packages (from jedi>=0.16->ipython->ipython-sql) (0.8.3)\n",
      "Requirement already satisfied: ptyprocess>=0.5 in /home/igor/pvenv/p310/lib/python3.10/site-packages (from pexpect>4.3->ipython->ipython-sql) (0.7.0)\n",
      "Requirement already satisfied: executing>=1.2.0 in /home/igor/pvenv/p310/lib/python3.10/site-packages (from stack-data->ipython->ipython-sql) (1.2.0)\n",
      "Requirement already satisfied: asttokens>=2.1.0 in /home/igor/pvenv/p310/lib/python3.10/site-packages (from stack-data->ipython->ipython-sql) (2.2.1)\n",
      "Requirement already satisfied: pure-eval in /home/igor/pvenv/p310/lib/python3.10/site-packages (from stack-data->ipython->ipython-sql) (0.2.2)\n",
      "Note: you may need to restart the kernel to use updated packages.\n",
      "Requirement already satisfied: Flask in /home/igor/pvenv/p310/lib/python3.10/site-packages (2.3.2)\n",
      "Requirement already satisfied: itsdangerous>=2.1.2 in /home/igor/pvenv/p310/lib/python3.10/site-packages (from Flask) (2.1.2)\n",
      "Requirement already satisfied: Jinja2>=3.1.2 in /home/igor/pvenv/p310/lib/python3.10/site-packages (from Flask) (3.1.2)\n",
      "Requirement already satisfied: blinker>=1.6.2 in /home/igor/pvenv/p310/lib/python3.10/site-packages (from Flask) (1.6.2)\n",
      "Requirement already satisfied: click>=8.1.3 in /home/igor/pvenv/p310/lib/python3.10/site-packages (from Flask) (8.1.3)\n",
      "Requirement already satisfied: Werkzeug>=2.3.3 in /home/igor/pvenv/p310/lib/python3.10/site-packages (from Flask) (2.3.6)\n",
      "Requirement already satisfied: MarkupSafe>=2.0 in /home/igor/pvenv/p310/lib/python3.10/site-packages (from Jinja2>=3.1.2->Flask) (2.1.2)\n",
      "Note: you may need to restart the kernel to use updated packages.\n",
      "Collecting luhn\n",
      "  Downloading luhn-0.2.0.tar.gz (1.7 kB)\n",
      "  Preparing metadata (setup.py) ... \u001b[?25ldone\n",
      "\u001b[?25hUsing legacy 'setup.py install' for luhn, since package 'wheel' is not installed.\n",
      "Installing collected packages: luhn\n",
      "  Running setup.py install for luhn ... \u001b[?25ldone\n",
      "\u001b[?25hSuccessfully installed luhn-0.2.0\n",
      "Note: you may need to restart the kernel to use updated packages.\n"
     ]
    }
   ],
   "source": [
    "%pip install ipython-sql\n",
    "%pip install Flask\n",
    "%pip install luhn"
   ]
  },
  {
   "cell_type": "markdown",
   "id": "1e740198-ec77-4f2a-bd60-c241d747582e",
   "metadata": {},
   "source": [
    "## Initialize the database"
   ]
  },
  {
   "cell_type": "code",
   "execution_count": 1,
   "id": "32e22370-5e94-4e68-863c-3094a0bb708f",
   "metadata": {},
   "outputs": [],
   "source": [
    "%run -m initialize_database"
   ]
  },
  {
   "cell_type": "markdown",
   "id": "f292aad0-30ab-4aff-88c0-a76266e7681b",
   "metadata": {},
   "source": [
    "## Start endpoint"
   ]
  },
  {
   "cell_type": "code",
   "execution_count": 6,
   "id": "84a6e471-e16f-4387-a55d-cbbfcb101cdb",
   "metadata": {},
   "outputs": [
    {
     "name": "stdout",
     "output_type": "stream",
     "text": [
      " * Serving Flask app 'transactions_endpoint'\n",
      " * Debug mode: off\n"
     ]
    },
    {
     "name": "stderr",
     "output_type": "stream",
     "text": [
      "WARNING: This is a development server. Do not use it in a production deployment. Use a production WSGI server instead.\n",
      " * Running on http://127.0.0.1:5000\n",
      "Press CTRL+C to quit\n",
      "127.0.0.1 - - [21/Jun/2023 11:50:33] \"POST /transactions HTTP/1.1\" 200 -\n",
      "127.0.0.1 - - [21/Jun/2023 11:51:28] \"POST /transactions HTTP/1.1\" 200 -\n"
     ]
    }
   ],
   "source": [
    "%run -m transactions_endpoint"
   ]
  },
  {
   "attachments": {},
   "cell_type": "markdown",
   "id": "4ead5737",
   "metadata": {},
   "source": [
    "## Generate test data"
   ]
  },
  {
   "attachments": {},
   "cell_type": "markdown",
   "id": "2f25ba96",
   "metadata": {},
   "source": [
    "This script was generated by ChatGPT using the following prompt:\n",
    "\n",
    "Please act as tech consultant and also course instructor and help with the following task:\n",
    "\n",
    "Generate a csv table that will have fake transactions for testing a credit card endpoitn system the system.\n",
    "\n",
    "For every 100 transactions:\n",
    ". 3 must be \"denied\"\n",
    ". 2 muste be \"reversed\"\n",
    ". 4 must be \"failed\"\n",
    "\n",
    "To be \"denied\" the credit card issuer must have a score above 5\n",
    "- use the following list of issuers and its scores:\n",
    "        'Banco do Brasil': 1,\n",
    "        'CEF': 4,\n",
    "        'Itaú': 1,\n",
    "        'Santander': 2,\n",
    "        'Bradesco': 3,\n",
    "        'Credicard': 4,\n",
    "        'BS2': 6,\n",
    "        'Inter': 5,\n",
    "        'Nubank': 5,\n",
    "        'PicPay': 5,\n",
    "        'BrasilCard': 6,\n",
    "        'BMG': 1,\n",
    "        'C6 Bank': 2,\n",
    "        'Bancoob': 1,\n",
    "        'BTG Pactual': 3,\n",
    "        'banQi':6,\n",
    "        'Banco Cetelem': 6\n",
    "\n",
    "To be \"reversed\" the transaction must have a score above 20\n",
    "- calculate the transaction score using this formula \"transaction_score = credit_card_issuer_score * time_score_multiplier * amount_score_multiplier\"\n",
    "- \"time_score_multiplier\" is 1 if the transaction ocurred between 9:00 and 21:59, and 2 if it ocurred between 22:00 and 8:59\n",
    "- \"amount_score_multiplier\" follows the following rule:\n",
    "\"1 if 0.01 <= amount <= 2000, 2 if 2000.01 <= amount <= 5000, 3 if 5000.01 <= amount <= 10000, 5 if 10000.01 <= amount\"\n",
    "- save the total score in a column named \"total_score\" and the transaction amount in a column named \"amount\".\n",
    "\n",
    "To be \"failed\" the credit card number must be invalid\n",
    "- save all the fake credit card numbers generated, both valid and invalid, in a \"credit_card\" column\n",
    "\n",
    "The table must contain data for an average of 20 transactions per minute, covering a 24 hour period, starting from 00:00 and ending at 23:59. A higher average of transactions must occur during daytime. Only the hours and minutes are necessary, disregard any date information, save it in a column called \"time\". \n",
    "\n",
    "Also, it should have random number of spikes of \"denied\", \"failed\" and \"reversed\" transactions during the period, so a monitoring and alarm system can be tested. Please generate this spikes accordingly.\n",
    "\n",
    "Save the file as \"test_data.csv\" and print a message to the console when it finishes."
   ]
  },
  {
   "cell_type": "markdown",
   "id": "b55a137b",
   "metadata": {},
   "source": []
  },
  {
   "cell_type": "code",
   "execution_count": 8,
   "id": "bad78449",
   "metadata": {},
   "outputs": [
    {
     "name": "stdout",
     "output_type": "stream",
     "text": [
      "test data generated successfully\n"
     ]
    }
   ],
   "source": [
    "%run -m generate_test_data"
   ]
  },
  {
   "attachments": {},
   "cell_type": "markdown",
   "id": "e7bc197a",
   "metadata": {},
   "source": [
    "## Start endpoint and simulate transactions"
   ]
  },
  {
   "cell_type": "code",
   "execution_count": 2,
   "id": "7da64cf6",
   "metadata": {},
   "outputs": [],
   "source": [
    "%run -m email_alert"
   ]
  }
 ],
 "metadata": {
  "kernelspec": {
   "display_name": "Python 3 (ipykernel)",
   "language": "python",
   "name": "python3"
  },
  "language_info": {
   "codemirror_mode": {
    "name": "ipython",
    "version": 3
   },
   "file_extension": ".py",
   "mimetype": "text/x-python",
   "name": "python",
   "nbconvert_exporter": "python",
   "pygments_lexer": "ipython3",
   "version": "3.10.6"
  }
 },
 "nbformat": 4,
 "nbformat_minor": 5
}
