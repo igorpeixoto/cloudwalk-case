{
 "cells": [
  {
   "cell_type": "markdown",
   "id": "77e5bfde-bb79-42f9-b849-8f7321d0f43c",
   "metadata": {},
   "source": [
    "# CloudWalk - Monitoring Analyst Test\n",
    "\n",
    "**First challenge**\n",
    "\n",
    "- Analysis of hypothetical checkout data from two different days of a POS."
   ]
  },
  {
   "cell_type": "markdown",
   "id": "dcf94ed7-bf50-48c1-a44a-3cc122223b9d",
   "metadata": {},
   "source": [
    "## Install requirements"
   ]
  },
  {
   "cell_type": "code",
   "execution_count": 1,
   "id": "d72f53e8-04e0-49a7-9dc8-e9a5913b9161",
   "metadata": {
    "collapsed": true,
    "editable": true,
    "jupyter": {
     "outputs_hidden": true
    },
    "slideshow": {
     "slide_type": ""
    },
    "tags": []
   },
   "outputs": [
    {
     "name": "stdout",
     "output_type": "stream",
     "text": [
      "Requirement already satisfied: ipython-sql in /home/igor/pvenv/p310/lib/python3.10/site-packages (0.5.0)\n",
      "Requirement already satisfied: sqlalchemy>=2.0 in /home/igor/pvenv/p310/lib/python3.10/site-packages (from ipython-sql) (2.0.16)\n",
      "Requirement already satisfied: prettytable in /home/igor/pvenv/p310/lib/python3.10/site-packages (from ipython-sql) (3.8.0)\n",
      "Requirement already satisfied: sqlparse in /home/igor/pvenv/p310/lib/python3.10/site-packages (from ipython-sql) (0.4.4)\n",
      "Requirement already satisfied: ipython-genutils in /home/igor/pvenv/p310/lib/python3.10/site-packages (from ipython-sql) (0.2.0)\n",
      "Requirement already satisfied: ipython in /home/igor/pvenv/p310/lib/python3.10/site-packages (from ipython-sql) (8.13.2)\n",
      "Requirement already satisfied: six in /home/igor/pvenv/p310/lib/python3.10/site-packages (from ipython-sql) (1.16.0)\n",
      "Requirement already satisfied: greenlet!=0.4.17 in /home/igor/pvenv/p310/lib/python3.10/site-packages (from sqlalchemy>=2.0->ipython-sql) (2.0.2)\n",
      "Requirement already satisfied: typing-extensions>=4.2.0 in /home/igor/pvenv/p310/lib/python3.10/site-packages (from sqlalchemy>=2.0->ipython-sql) (4.5.0)\n",
      "Requirement already satisfied: stack-data in /home/igor/pvenv/p310/lib/python3.10/site-packages (from ipython->ipython-sql) (0.6.2)\n",
      "Requirement already satisfied: pygments>=2.4.0 in /home/igor/pvenv/p310/lib/python3.10/site-packages (from ipython->ipython-sql) (2.15.1)\n",
      "Requirement already satisfied: pickleshare in /home/igor/pvenv/p310/lib/python3.10/site-packages (from ipython->ipython-sql) (0.7.5)\n",
      "Requirement already satisfied: matplotlib-inline in /home/igor/pvenv/p310/lib/python3.10/site-packages (from ipython->ipython-sql) (0.1.6)\n",
      "Requirement already satisfied: jedi>=0.16 in /home/igor/pvenv/p310/lib/python3.10/site-packages (from ipython->ipython-sql) (0.18.2)\n",
      "Requirement already satisfied: backcall in /home/igor/pvenv/p310/lib/python3.10/site-packages (from ipython->ipython-sql) (0.2.0)\n",
      "Requirement already satisfied: decorator in /home/igor/pvenv/p310/lib/python3.10/site-packages (from ipython->ipython-sql) (5.1.1)\n",
      "Requirement already satisfied: traitlets>=5 in /home/igor/pvenv/p310/lib/python3.10/site-packages (from ipython->ipython-sql) (5.9.0)\n",
      "Requirement already satisfied: prompt-toolkit!=3.0.37,<3.1.0,>=3.0.30 in /home/igor/pvenv/p310/lib/python3.10/site-packages (from ipython->ipython-sql) (3.0.38)\n",
      "Requirement already satisfied: pexpect>4.3 in /home/igor/pvenv/p310/lib/python3.10/site-packages (from ipython->ipython-sql) (4.8.0)\n",
      "Requirement already satisfied: wcwidth in /home/igor/pvenv/p310/lib/python3.10/site-packages (from prettytable->ipython-sql) (0.2.6)\n",
      "Requirement already satisfied: parso<0.9.0,>=0.8.0 in /home/igor/pvenv/p310/lib/python3.10/site-packages (from jedi>=0.16->ipython->ipython-sql) (0.8.3)\n",
      "Requirement already satisfied: ptyprocess>=0.5 in /home/igor/pvenv/p310/lib/python3.10/site-packages (from pexpect>4.3->ipython->ipython-sql) (0.7.0)\n",
      "Requirement already satisfied: pure-eval in /home/igor/pvenv/p310/lib/python3.10/site-packages (from stack-data->ipython->ipython-sql) (0.2.2)\n",
      "Requirement already satisfied: asttokens>=2.1.0 in /home/igor/pvenv/p310/lib/python3.10/site-packages (from stack-data->ipython->ipython-sql) (2.2.1)\n",
      "Requirement already satisfied: executing>=1.2.0 in /home/igor/pvenv/p310/lib/python3.10/site-packages (from stack-data->ipython->ipython-sql) (1.2.0)\n"
     ]
    }
   ],
   "source": [
    "!pip install ipython-sql"
   ]
  },
  {
   "cell_type": "markdown",
   "id": "7bf5569f-3756-4f7a-932f-2b7e8b476c28",
   "metadata": {},
   "source": [
    "## Import libraries"
   ]
  },
  {
   "cell_type": "code",
   "execution_count": 2,
   "id": "19d18807-624b-4226-b3ca-91229269ece4",
   "metadata": {},
   "outputs": [],
   "source": [
    "import pandas as pd\n",
    "import numpy as np\n",
    "import matplotlib.pyplot as plt\n",
    "from sqlalchemy import create_engine "
   ]
  },
  {
   "cell_type": "markdown",
   "id": "8feedd82-3478-468a-b249-b80dda6c8661",
   "metadata": {},
   "source": [
    "## Connect to database"
   ]
  },
  {
   "cell_type": "code",
   "execution_count": 3,
   "id": "ef7fdda1-7b58-4f71-8f06-8036c5597d6b",
   "metadata": {
    "editable": true,
    "slideshow": {
     "slide_type": ""
    },
    "tags": []
   },
   "outputs": [],
   "source": [
    "dbEngine = create_engine(\"sqlite:///monitoring_test.db\")"
   ]
  },
  {
   "cell_type": "code",
   "execution_count": 4,
   "id": "cd4fc939-1fc4-4401-a3e4-f36067980f7d",
   "metadata": {
    "scrolled": true
   },
   "outputs": [
    {
     "data": {
      "text/plain": [
       "Engine(sqlite:///monitoring_test.db)"
      ]
     },
     "execution_count": 4,
     "metadata": {},
     "output_type": "execute_result"
    }
   ],
   "source": [
    "dbEngine"
   ]
  },
  {
   "cell_type": "code",
   "execution_count": 5,
   "id": "7e0f226f-8b74-4d50-bdeb-7e299e7222ce",
   "metadata": {
    "jupyter": {
     "source_hidden": true
    }
   },
   "outputs": [],
   "source": [
    "%load_ext sql"
   ]
  },
  {
   "cell_type": "code",
   "execution_count": 6,
   "id": "ffe6eb5b-03fc-481d-bbd6-54a2f7969728",
   "metadata": {
    "jupyter": {
     "source_hidden": true
    }
   },
   "outputs": [],
   "source": [
    "%sql sqlite:///monitoring_test.db"
   ]
  },
  {
   "cell_type": "markdown",
   "id": "1dadf8f2-8344-434d-a680-240285e6245f",
   "metadata": {},
   "source": [
    "## Create new joined table"
   ]
  },
  {
   "cell_type": "code",
   "execution_count": 7,
   "id": "1c94367d-fd04-4263-8850-0946c9273f39",
   "metadata": {},
   "outputs": [
    {
     "name": "stdout",
     "output_type": "stream",
     "text": [
      " * sqlite:///monitoring_test.db\n",
      "(sqlite3.OperationalError) table joined_table already exists\n",
      "[SQL: CREATE TABLE joined_table AS\n",
      "SELECT\n",
      "    checkout_2.time,\n",
      "\tcheckout_2.today,\n",
      "\tcheckout_2.yesterday,\n",
      "\tcheckout_1.yesterday AS 'yesterday+1d',\n",
      "\tcheckout_2.same_day_last_week,\n",
      "\tcheckout_1.same_day_last_week AS 'same_day_last_week+1d'\n",
      "FROM checkout_1\n",
      "JOIN checkout_2 ON checkout_1.today = checkout_2.yesterday AND checkout_1.time = checkout_2.time;]\n",
      "(Background on this error at: https://sqlalche.me/e/20/e3q8)\n"
     ]
    }
   ],
   "source": [
    "%%sql\n",
    "CREATE TABLE joined_table AS\n",
    "SELECT\n",
    "    checkout_2.time,\n",
    "\tcheckout_2.today,\n",
    "\tcheckout_2.yesterday,\n",
    "\tcheckout_1.yesterday AS 'yesterday+1d',\n",
    "\tcheckout_2.same_day_last_week,\n",
    "\tcheckout_1.same_day_last_week AS 'same_day_last_week+1d'\n",
    "FROM checkout_1\n",
    "JOIN checkout_2 ON checkout_1.today = checkout_2.yesterday AND checkout_1.time = checkout_2.time;"
   ]
  },
  {
   "cell_type": "code",
   "execution_count": 8,
   "id": "88540a83-b54e-4f2c-b820-ca0ac894cd10",
   "metadata": {},
   "outputs": [
    {
     "name": "stdout",
     "output_type": "stream",
     "text": [
      " * sqlite:///monitoring_test.db\n",
      "Done.\n"
     ]
    },
    {
     "data": {
      "text/html": [
       "<table>\n",
       "    <thead>\n",
       "        <tr>\n",
       "            <th>time</th>\n",
       "            <th>today</th>\n",
       "            <th>yesterday</th>\n",
       "            <th>yesterday+1</th>\n",
       "            <th>same_day_last_week</th>\n",
       "            <th>same_day_last_week+1</th>\n",
       "        </tr>\n",
       "    </thead>\n",
       "    <tbody>\n",
       "        <tr>\n",
       "            <td>00h</td>\n",
       "            <td>6</td>\n",
       "            <td>9</td>\n",
       "            <td>12</td>\n",
       "            <td>5</td>\n",
       "            <td>11</td>\n",
       "        </tr>\n",
       "        <tr>\n",
       "            <td>01h</td>\n",
       "            <td>3</td>\n",
       "            <td>3</td>\n",
       "            <td>5</td>\n",
       "            <td>2</td>\n",
       "            <td>1</td>\n",
       "        </tr>\n",
       "        <tr>\n",
       "            <td>02h</td>\n",
       "            <td>3</td>\n",
       "            <td>1</td>\n",
       "            <td>0</td>\n",
       "            <td>2</td>\n",
       "            <td>0</td>\n",
       "        </tr>\n",
       "        <tr>\n",
       "            <td>03h</td>\n",
       "            <td>0</td>\n",
       "            <td>1</td>\n",
       "            <td>0</td>\n",
       "            <td>1</td>\n",
       "            <td>0</td>\n",
       "        </tr>\n",
       "        <tr>\n",
       "            <td>04h</td>\n",
       "            <td>0</td>\n",
       "            <td>0</td>\n",
       "            <td>0</td>\n",
       "            <td>0</td>\n",
       "            <td>1</td>\n",
       "        </tr>\n",
       "        <tr>\n",
       "            <td>05h</td>\n",
       "            <td>2</td>\n",
       "            <td>1</td>\n",
       "            <td>1</td>\n",
       "            <td>1</td>\n",
       "            <td>2</td>\n",
       "        </tr>\n",
       "        <tr>\n",
       "            <td>06h</td>\n",
       "            <td>3</td>\n",
       "            <td>1</td>\n",
       "            <td>1</td>\n",
       "            <td>2</td>\n",
       "            <td>5</td>\n",
       "        </tr>\n",
       "        <tr>\n",
       "            <td>07h</td>\n",
       "            <td>10</td>\n",
       "            <td>2</td>\n",
       "            <td>3</td>\n",
       "            <td>9</td>\n",
       "            <td>9</td>\n",
       "        </tr>\n",
       "        <tr>\n",
       "            <td>08h</td>\n",
       "            <td>25</td>\n",
       "            <td>0</td>\n",
       "            <td>1</td>\n",
       "            <td>12</td>\n",
       "            <td>18</td>\n",
       "        </tr>\n",
       "        <tr>\n",
       "            <td>09h</td>\n",
       "            <td>36</td>\n",
       "            <td>2</td>\n",
       "            <td>9</td>\n",
       "            <td>27</td>\n",
       "            <td>30</td>\n",
       "        </tr>\n",
       "        <tr>\n",
       "            <td>10h</td>\n",
       "            <td>43</td>\n",
       "            <td>55</td>\n",
       "            <td>51</td>\n",
       "            <td>42</td>\n",
       "            <td>45</td>\n",
       "        </tr>\n",
       "        <tr>\n",
       "            <td>11h</td>\n",
       "            <td>44</td>\n",
       "            <td>36</td>\n",
       "            <td>44</td>\n",
       "            <td>47</td>\n",
       "            <td>38</td>\n",
       "        </tr>\n",
       "        <tr>\n",
       "            <td>12h</td>\n",
       "            <td>46</td>\n",
       "            <td>51</td>\n",
       "            <td>39</td>\n",
       "            <td>46</td>\n",
       "            <td>39</td>\n",
       "        </tr>\n",
       "        <tr>\n",
       "            <td>13h</td>\n",
       "            <td>45</td>\n",
       "            <td>36</td>\n",
       "            <td>41</td>\n",
       "            <td>31</td>\n",
       "            <td>43</td>\n",
       "        </tr>\n",
       "        <tr>\n",
       "            <td>14h</td>\n",
       "            <td>19</td>\n",
       "            <td>32</td>\n",
       "            <td>35</td>\n",
       "            <td>35</td>\n",
       "            <td>36</td>\n",
       "        </tr>\n",
       "        <tr>\n",
       "            <td>15h</td>\n",
       "            <td>0</td>\n",
       "            <td>51</td>\n",
       "            <td>35</td>\n",
       "            <td>42</td>\n",
       "            <td>49</td>\n",
       "        </tr>\n",
       "        <tr>\n",
       "            <td>16h</td>\n",
       "            <td>0</td>\n",
       "            <td>41</td>\n",
       "            <td>36</td>\n",
       "            <td>36</td>\n",
       "            <td>48</td>\n",
       "        </tr>\n",
       "        <tr>\n",
       "            <td>17h</td>\n",
       "            <td>0</td>\n",
       "            <td>45</td>\n",
       "            <td>30</td>\n",
       "            <td>19</td>\n",
       "            <td>29</td>\n",
       "        </tr>\n",
       "        <tr>\n",
       "            <td>18h</td>\n",
       "            <td>13</td>\n",
       "            <td>32</td>\n",
       "            <td>25</td>\n",
       "            <td>29</td>\n",
       "            <td>25</td>\n",
       "        </tr>\n",
       "        <tr>\n",
       "            <td>19h</td>\n",
       "            <td>32</td>\n",
       "            <td>33</td>\n",
       "            <td>39</td>\n",
       "            <td>29</td>\n",
       "            <td>42</td>\n",
       "        </tr>\n",
       "        <tr>\n",
       "            <td>20h</td>\n",
       "            <td>23</td>\n",
       "            <td>25</td>\n",
       "            <td>24</td>\n",
       "            <td>17</td>\n",
       "            <td>34</td>\n",
       "        </tr>\n",
       "        <tr>\n",
       "            <td>21h</td>\n",
       "            <td>28</td>\n",
       "            <td>30</td>\n",
       "            <td>35</td>\n",
       "            <td>23</td>\n",
       "            <td>34</td>\n",
       "        </tr>\n",
       "        <tr>\n",
       "            <td>22h</td>\n",
       "            <td>29</td>\n",
       "            <td>28</td>\n",
       "            <td>29</td>\n",
       "            <td>17</td>\n",
       "            <td>23</td>\n",
       "        </tr>\n",
       "        <tr>\n",
       "            <td>23h</td>\n",
       "            <td>17</td>\n",
       "            <td>11</td>\n",
       "            <td>28</td>\n",
       "            <td>14</td>\n",
       "            <td>10</td>\n",
       "        </tr>\n",
       "    </tbody>\n",
       "</table>"
      ],
      "text/plain": [
       "[('00h', 6, 9, 12, 5, 11),\n",
       " ('01h', 3, 3, 5, 2, 1),\n",
       " ('02h', 3, 1, 0, 2, 0),\n",
       " ('03h', 0, 1, 0, 1, 0),\n",
       " ('04h', 0, 0, 0, 0, 1),\n",
       " ('05h', 2, 1, 1, 1, 2),\n",
       " ('06h', 3, 1, 1, 2, 5),\n",
       " ('07h', 10, 2, 3, 9, 9),\n",
       " ('08h', 25, 0, 1, 12, 18),\n",
       " ('09h', 36, 2, 9, 27, 30),\n",
       " ('10h', 43, 55, 51, 42, 45),\n",
       " ('11h', 44, 36, 44, 47, 38),\n",
       " ('12h', 46, 51, 39, 46, 39),\n",
       " ('13h', 45, 36, 41, 31, 43),\n",
       " ('14h', 19, 32, 35, 35, 36),\n",
       " ('15h', 0, 51, 35, 42, 49),\n",
       " ('16h', 0, 41, 36, 36, 48),\n",
       " ('17h', 0, 45, 30, 19, 29),\n",
       " ('18h', 13, 32, 25, 29, 25),\n",
       " ('19h', 32, 33, 39, 29, 42),\n",
       " ('20h', 23, 25, 24, 17, 34),\n",
       " ('21h', 28, 30, 35, 23, 34),\n",
       " ('22h', 29, 28, 29, 17, 23),\n",
       " ('23h', 17, 11, 28, 14, 10)]"
      ]
     },
     "execution_count": 8,
     "metadata": {},
     "output_type": "execute_result"
    }
   ],
   "source": [
    "%%sql\n",
    "SELECT * FROM joined_table"
   ]
  },
  {
   "cell_type": "markdown",
   "id": "fece0cac-9d2e-4950-bcc7-781a377a5615",
   "metadata": {},
   "source": [
    "## Create dataframe from table"
   ]
  },
  {
   "cell_type": "code",
   "execution_count": 9,
   "id": "195b5e80-a513-4e6c-aaf0-1181a5af62fe",
   "metadata": {},
   "outputs": [
    {
     "data": {
      "text/html": [
       "<div>\n",
       "<style scoped>\n",
       "    .dataframe tbody tr th:only-of-type {\n",
       "        vertical-align: middle;\n",
       "    }\n",
       "\n",
       "    .dataframe tbody tr th {\n",
       "        vertical-align: top;\n",
       "    }\n",
       "\n",
       "    .dataframe thead th {\n",
       "        text-align: right;\n",
       "    }\n",
       "</style>\n",
       "<table border=\"1\" class=\"dataframe\">\n",
       "  <thead>\n",
       "    <tr style=\"text-align: right;\">\n",
       "      <th></th>\n",
       "      <th>time</th>\n",
       "      <th>today</th>\n",
       "      <th>yesterday</th>\n",
       "      <th>yesterday+1</th>\n",
       "      <th>same_day_last_week</th>\n",
       "      <th>same_day_last_week+1</th>\n",
       "    </tr>\n",
       "  </thead>\n",
       "  <tbody>\n",
       "    <tr>\n",
       "      <th>0</th>\n",
       "      <td>00h</td>\n",
       "      <td>6</td>\n",
       "      <td>9</td>\n",
       "      <td>12</td>\n",
       "      <td>5</td>\n",
       "      <td>11</td>\n",
       "    </tr>\n",
       "    <tr>\n",
       "      <th>1</th>\n",
       "      <td>01h</td>\n",
       "      <td>3</td>\n",
       "      <td>3</td>\n",
       "      <td>5</td>\n",
       "      <td>2</td>\n",
       "      <td>1</td>\n",
       "    </tr>\n",
       "    <tr>\n",
       "      <th>2</th>\n",
       "      <td>02h</td>\n",
       "      <td>3</td>\n",
       "      <td>1</td>\n",
       "      <td>0</td>\n",
       "      <td>2</td>\n",
       "      <td>0</td>\n",
       "    </tr>\n",
       "    <tr>\n",
       "      <th>3</th>\n",
       "      <td>03h</td>\n",
       "      <td>0</td>\n",
       "      <td>1</td>\n",
       "      <td>0</td>\n",
       "      <td>1</td>\n",
       "      <td>0</td>\n",
       "    </tr>\n",
       "  </tbody>\n",
       "</table>\n",
       "</div>"
      ],
      "text/plain": [
       "  time  today  yesterday  yesterday+1  same_day_last_week   \n",
       "0  00h      6          9           12                   5  \\\n",
       "1  01h      3          3            5                   2   \n",
       "2  02h      3          1            0                   2   \n",
       "3  03h      0          1            0                   1   \n",
       "\n",
       "   same_day_last_week+1  \n",
       "0                    11  \n",
       "1                     1  \n",
       "2                     0  \n",
       "3                     0  "
      ]
     },
     "execution_count": 9,
     "metadata": {},
     "output_type": "execute_result"
    }
   ],
   "source": [
    "df = pd.read_sql_query('SELECT * FROM joined_table', dbEngine)\n",
    "df.head(4)"
   ]
  },
  {
   "cell_type": "markdown",
   "id": "3a0a4841-7cad-4879-954a-1f258f901162",
   "metadata": {},
   "source": [
    "## Create multiple lines plot"
   ]
  },
  {
   "cell_type": "code",
   "execution_count": 13,
   "id": "375d613c-0902-421c-b46d-03c91d25bdac",
   "metadata": {},
   "outputs": [
    {
     "data": {
      "image/png": "[encoded data removed]",
      "text/plain": [
       "<Figure size 640x480 with 1 Axes>"
      ]
     },
     "metadata": {},
     "output_type": "display_data"
    }
   ],
   "source": [
    "fig, ax = plt.subplots()\n",
    "\n",
    "ax.plot(df['time'], df['today'], label='Today', color='red', linestyle = '--', linewidth=2)\n",
    "ax.plot(df['time'], df['yesterday'], label='Yesterday', color='orange')\n",
    "ax.plot(df['time'], df['yesterday+1'], label='2d ago', color='green')\n",
    "ax.plot(df['time'], df['same_day_last_week'], label='7d ago', color='blue')\n",
    "\n",
    "df_max_value = df.max(numeric_only=True).max()              \n",
    "minor_ticks = np.arange(0,df_max_value, 5)\n",
    "ax.set_yticks(minor_ticks, minor=True,labels=minor_ticks,fontsize=8)\n",
    "ax.grid(visible=True, which='minor', linestyle=':', alpha=0.4)\n",
    "ax.grid(visible=True, which='major', linestyle='-', alpha=0.5)\n",
    "\n",
    "plt.xlabel('Time')\n",
    "plt.ylabel('Number of Sales')\n",
    "plt.title('Sales Comparisson')\n",
    "\n",
    "plt.legend()\n",
    "plt.setp(ax.get_xticklabels(), rotation=90, ha=\"center\")\n",
    "\n",
    "ax.annotate('Anomaly', xy=(14.9,0), xytext=(10,4), arrowprops=dict(arrowstyle='->', connectionstyle='arc3, rad=0.3'))\n",
    "\n",
    "plt.show()"
   ]
  }
 ],
 "metadata": {
  "kernelspec": {
   "display_name": "Python 3 (ipykernel)",
   "language": "python",
   "name": "python3"
  },
  "language_info": {
   "codemirror_mode": {
    "name": "ipython",
    "version": 3
   },
   "file_extension": ".py",
   "mimetype": "text/x-python",
   "name": "python",
   "nbconvert_exporter": "python",
   "pygments_lexer": "ipython3",
   "version": "3.10.6"
  }
 },
 "nbformat": 4,
 "nbformat_minor": 5
}
